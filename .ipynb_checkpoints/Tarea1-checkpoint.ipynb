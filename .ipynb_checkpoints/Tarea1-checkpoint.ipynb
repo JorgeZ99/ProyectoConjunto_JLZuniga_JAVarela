{
 "cells": [
  {
   "cell_type": "markdown",
   "metadata": {},
   "source": [
    "<img style=\"float: left; margin: 30px 15px 15px 15px;\" src=\"https://pngimage.net/wp-content/uploads/2018/06/logo-iteso-png-5.png\" width=\"300\" height=\"500\" /> \n",
    "    \n",
    "    \n",
    "### <font color='navy'> Simulación de procesos financieros. \n",
    "\n",
    "**Nombre:** Jorge Luis Zuñiga Ortiz / Jorge Varela \n",
    "\n",
    "**Fecha:** 4 de Febrero del 2020.\n",
    "\n",
    "**Expediente** : IF713559.\n",
    "**Profesor:** Oscar David Jaramillo Zuluaga.\n",
    "\n",
    "# Tarea #1"
   ]
  },
  {
   "cell_type": "markdown",
   "metadata": {},
   "source": [
    "# Simulación de procesos financieros\n",
    "\n",
    "Las expectativas que tengo sobre esta materia es que podamos adentrarnos más hacía los procesos que se hacen en la industria y el sector financiero es decir que apliquemos lo que hemos visto durante los semestres pasados de una manera que se pueda utilizar para poder hacer simulaciones con programación en el lenguaje Python para así comprender lo que se hace y como se hace dentro de las finanzas.\n",
    "    \n",
    "Esta materia me parece muy interesante debido a que me interesan muchos los campos dentro de las finanzas de:\n",
    "* Big Data\n",
    "* Inteligencia Artificial \n",
    "* Business Intelligence\n",
    "\n",
    "Espero al final del curso tener una mejor comprensión sobre los procesos financieros pero sobre todo aprender a programar de una manera más eficiente y correcta, debido a que es una habilidad que es muy util y necesaria en todas las industrias relacionados a nuestro campo laboral y poder utilizar todo eso para generar valor dentro de la institución que este trabajando.\n",
    "\n"
   ]
  },
  {
   "cell_type": "markdown",
   "metadata": {},
   "source": [
    "<img src = \"https://ww2.buzone.com/media/k2/items/cache/144aba6c568fde2fce1a77afef2ebf5c_L.jpg\" /> "
   ]
  },
  {
   "cell_type": "markdown",
   "metadata": {},
   "source": [
    "# Resumen \n",
    "**Fuente:** *The economist*\n",
    "\n",
    "## <span style = \"color: red;\"> Python is becoming the world´s most popular coding language </span>\n",
    "\n",
    ">    El articulo muestra como Python esta aumentando su dominio como uno de los principales lenguajes de programación aunque haya sido creado hace menos de 35 años, en el año 1989, aunque no es solo eso Python ha pasado a ser parte de la sociedad debido a todo lo que puedes hacer con este lenguaje de programación. Un dato que comprueba la tendencia a la alza de Python es que durante los pasados doce meses se ha buscado más **Python** que Kim Kardashian.\n",
    "\n",
    "\n",
    "> Las razones por las que esta dominando el mercado es debido a su simplicidad y flexibilidad, ya que es fácil de entender la sintaxis que se utiliza para definir variables, funciones, ciclos y todas las demás cosas que se pueden hacer en el programa. Conforme fue aumentando la comunidad de Python, estos mismos contribuyeron a hacer librerías que puedes descargar en el programa y que te facilitan las cosas debido a que vienen funciones complicadas que puedes integrar directamente al programa. La principal ventaja que tiene Python es que en industrias donde la programación no es lo fundamental, Python puede ser de ayuda como en los sectores de Mercadotecnia. Según los analistas, Python no va a ser el fin de los otros lenguajes debido a que cada uno tiene su nicho de mercado porque aunque Python puede hacer muchas cosas y más simples, Java se utiliza más para la programación de software y Javascript para la creación y mantenimiento de las paginas web. \n",
    "\n",
    "\n",
    "> *En mi opinión considero que Python va ser el lenguaje de programación dominante en los siguientes años debido a todas las librerías y paquetes que hay sobre la inteligencia artificial, una de las áreas que mas han crecido en los últimos años y que se espera crezca aun más su implementación a todos los sectores. Aparte de que al ir creciendo la comunidad va a continuar creciendo la cantidad de contenido subido haciendo que el programa tenga aún más ventaja sobre sus competidores, sin embargo puede que en algún momento llegue otro lenguaje más sencillo y con mayor contenido.*"
   ]
  },
  {
   "cell_type": "markdown",
   "metadata": {},
   "source": [
    "## Resumen\n",
    " <span style = \"color: blue;\"> Python is becoming the world´s most popular coding language </span>\n",
    "\n",
    ">El lenguaje de programación *Python* fue creado por Van Rossum alrededor del año 1989. Con el paso del tiempo se ha convertido en el lenguaje mas popular de **programación**. Esto se debe a las intenciones que tuvo Rossum, al crear el lenguaje. El se propuso crear un lenguaje facil de leer, que permita a los usuarios crear sus propias paqueterías y con acceso a los *Pythonistas* para permitirles agregar paqueterias para uso de la comunidad. Al final, Rossum renunció dejando que los *Pythonistas* se encargaran.\n",
    "\n",
    ">Con el tiempo Python ha ido creciendo tanto con paquetes super elaborados como por ejemplo los paquetes creados que aprovechan la *Inteligencia Artificial (IA)*, al nivel de que los usuarios pueden simular conecciones de un cerebro para seleccionar patrones en cantidades de datos enormes. \n",
    "Con usos como ese es como ha logrado tomar tanta popularidad a nivel la que empresas capacitan a sus empleados para que tengan conocimiento del lenguaje.\n",
    "\n",
    ">El artículo menciona que no sabe cuanto dudara el ascenso de Python, pero desde mi punto de vista no creo que otro lenguaje de programación lo sustituya pronto, ya que para mi python es el lenguaje mas cómodo y 'facil'; otra cosa que a mi me gusta mucho son las librerias que se pueden usar de forma tan facil como por ejemplo *'Pandas'*."
   ]
  },
  {
   "cell_type": "markdown",
   "metadata": {},
   "source": [
    "### Tabla de crecimiento\n",
    "**Basado en visualizaciones de preguntas en Stack Overflow**\n",
    "\n",
    "| Lenguaje/Año | 2012  | 2014  | 2016   | 2018   |\n",
    "|--------------|-------|-------|--------|--------|\n",
    "| Python       | 3.7 % | 5.2 % | 7.5 %  | 10.5 % |\n",
    "| Javascript   | 7.5 % | 9.3 % | 9.7 %  | 10 %   |\n",
    "| Java         | 9 %   | 9.8 % | 10.4 % | 9.7 %  |\n",
    "| C#           | 9.6 % | 7.8 % | 7.5 %  | 7.5 %  |"
   ]
  },
  {
   "cell_type": "markdown",
<<<<<<< Updated upstream
   "metadata": {},
   "source": [
    "**Numeros primos** de 0 a n (100)"
   ]
  },
  {
   "cell_type": "code",
   "execution_count": 7,
   "metadata": {},
   "outputs": [
    {
     "name": "stdout",
     "output_type": "stream",
     "text": [
      "[2, 3, 5, 7, 11, 13, 17, 19, 23, 29, 31, 37, 41, 43, 47, 53, 59, 61, 67, 71, 73, 79, 83, 89, 97]\n"
     ]
    }
   ],
   "source": [
    "n = 100\n",
    "p = [2] + [x for x in range(3, n+1, 2) if not [y for y in range(3, int(x**0.5)+1, 2)\n",
    "                                               if (float(x) / y).is_integer()]]\n",
    "print(p)"
   ]
  },
  {
   "cell_type": "code",
   "execution_count": null,
=======
>>>>>>> Stashed changes
   "metadata": {},
   "source": []
  }
 ],
 "metadata": {
  "kernelspec": {
   "display_name": "Python 3",
   "language": "python",
   "name": "python3"
  },
  "language_info": {
   "codemirror_mode": {
    "name": "ipython",
    "version": 3
   },
   "file_extension": ".py",
   "mimetype": "text/x-python",
   "name": "python",
   "nbconvert_exporter": "python",
   "pygments_lexer": "ipython3",
   "version": "3.7.4"
  }
 },
 "nbformat": 4,
 "nbformat_minor": 2
}
